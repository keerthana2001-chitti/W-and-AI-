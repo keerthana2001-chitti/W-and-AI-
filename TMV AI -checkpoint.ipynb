{
 "cells": [
  {
   "cell_type": "code",
   "execution_count": 16,
   "id": "103faba1-de97-4356-a2ec-fd7d3a360a4f",
   "metadata": {},
   "outputs": [
    {
     "name": "stdout",
     "output_type": "stream",
     "text": [
      "<class 'list'>\n"
     ]
    }
   ],
   "source": [
    "list2=[10,30,'ggg',9.2]\n",
    "print(type(list1))"
   ]
  },
  {
   "cell_type": "code",
   "execution_count": 2,
   "id": "76acc9d5-db57-47fa-8ca2-22ba4bb78c31",
   "metadata": {},
   "outputs": [
    {
     "name": "stdout",
     "output_type": "stream",
     "text": [
      "<class 'list'>\n"
     ]
    }
   ],
   "source": [
    "list1=[1,2,3,4,5]\n",
    "print(type(list1))"
   ]
  },
  {
   "cell_type": "markdown",
   "id": "cb92ad4c-8a7d-4693-8dc2-29ebef7e6cb5",
   "metadata": {},
   "source": [
    "## separate the datatypes\n"
   ]
  },
  {
   "cell_type": "code",
   "execution_count": null,
   "id": "68918421-eada-42fd-a96a-d10a93e710aa",
   "metadata": {},
   "outputs": [],
   "source": []
  },
  {
   "cell_type": "code",
   "execution_count": null,
   "id": "f68fa31c-5eff-4545-b5e6-e345f2c599c1",
   "metadata": {},
   "outputs": [],
   "source": []
  },
  {
   "cell_type": "code",
   "execution_count": 3,
   "id": "b26585d6-12f1-4d89-845e-370891ecb421",
   "metadata": {},
   "outputs": [
    {
     "data": {
      "text/plain": [
       "int"
      ]
     },
     "execution_count": 3,
     "metadata": {},
     "output_type": "execute_result"
    }
   ],
   "source": [
    "type(10)\n"
   ]
  },
  {
   "cell_type": "code",
   "execution_count": 4,
   "id": "5941548f-1921-47e7-81e0-0034fc2dc7de",
   "metadata": {},
   "outputs": [
    {
     "data": {
      "text/plain": [
       "str"
      ]
     },
     "execution_count": 4,
     "metadata": {},
     "output_type": "execute_result"
    }
   ],
   "source": [
    "type('ggg')"
   ]
  },
  {
   "cell_type": "code",
   "execution_count": 5,
   "id": "37a90457-1831-427a-af5d-1224b7f98ee9",
   "metadata": {},
   "outputs": [
    {
     "data": {
      "text/plain": [
       "float"
      ]
     },
     "execution_count": 5,
     "metadata": {},
     "output_type": "execute_result"
    }
   ],
   "source": [
    "type(0.3)"
   ]
  },
  {
   "cell_type": "code",
   "execution_count": 7,
   "id": "0b842783-974c-43e4-9053-b4f6b33b123f",
   "metadata": {},
   "outputs": [
    {
     "name": "stdout",
     "output_type": "stream",
     "text": [
      "True\n"
     ]
    }
   ],
   "source": [
    "if type(6.6)==float:\n",
    "    print(True)"
   ]
  },
  {
   "cell_type": "code",
   "execution_count": 9,
   "id": "6baf039f-25df-4eba-826d-c03672446b81",
   "metadata": {},
   "outputs": [
    {
     "data": {
      "text/plain": [
       "list"
      ]
     },
     "execution_count": 9,
     "metadata": {},
     "output_type": "execute_result"
    }
   ],
   "source": [
    "x=[5,7,9,11]\n",
    "type(x)"
   ]
  },
  {
   "cell_type": "code",
   "execution_count": 11,
   "id": "7fe04887-1ba4-465e-a151-41b36390cac8",
   "metadata": {},
   "outputs": [
    {
     "name": "stdout",
     "output_type": "stream",
     "text": [
      "[5, 7, 9, 11, 88, 88]\n"
     ]
    }
   ],
   "source": [
    "x.append(88)\n",
    "print(x)"
   ]
  },
  {
   "cell_type": "code",
   "execution_count": 14,
   "id": "3a3a386a-517e-4246-85dc-b59bd9047f63",
   "metadata": {},
   "outputs": [
    {
     "name": "stdout",
     "output_type": "stream",
     "text": [
      "[1, 2, 3, 4, 5] [] []\n"
     ]
    }
   ],
   "source": [
    "str_list=[]\n",
    "int_list=[]\n",
    "float_list=[]\n",
    "for i in list1:\n",
    "    if type(i)==int:\n",
    "        int_list.append(i)\n",
    "    elif type(i)==str:\n",
    "        str_list.append(i)\n",
    "    elif type(i)==float:\n",
    "        float_list.append(i)\n",
    "print(int_list,str_list,float_list)"
   ]
  },
  {
   "cell_type": "code",
   "execution_count": 18,
   "id": "6ec3a447-fd44-43fb-ab8c-de9314cbba5c",
   "metadata": {},
   "outputs": [
    {
     "name": "stdout",
     "output_type": "stream",
     "text": [
      "[10, 30] ['ggg'] [9.2]\n"
     ]
    }
   ],
   "source": [
    "## list comprehension \n",
    "str_list=[i for i in list2 if type(i)==str]\n",
    "int_list=[i for i in list2 if type(i)==int]\n",
    "float_list=[i for i in list2 if type(i)==float]\n",
    "print(int_list,str_list,float_list)"
   ]
  },
  {
   "cell_type": "markdown",
   "id": "9df96936-afe5-4680-8610-5d9e0e1f745f",
   "metadata": {},
   "source": [
    "## create function for above mentioned separator ,for any user based list"
   ]
  },
  {
   "cell_type": "code",
   "execution_count": 21,
   "id": "2ef80417-bbdc-4e1a-b3b6-b79d2fafa519",
   "metadata": {},
   "outputs": [],
   "source": [
    "def separator(list2):\n",
    " str_list=[i for i in list2 if type(i)==str]\n",
    " int_list=[i for i in list2 if type(i)==int]\n",
    " float_list=[i for i in list2 if type(i)==float]\n",
    " return(int_list,str_list,float_list)"
   ]
  },
  {
   "cell_type": "code",
   "execution_count": 22,
   "id": "d97b34ff-a5d8-4fa8-89ad-cf6f3894680e",
   "metadata": {},
   "outputs": [
    {
     "name": "stdout",
     "output_type": "stream",
     "text": [
      "([12, 45], ['io'], [9.6])\n"
     ]
    }
   ],
   "source": [
    "print(separator([12,45,'io',9.6]))"
   ]
  },
  {
   "cell_type": "markdown",
   "id": "70d6686e-02ff-44e5-a36d-f7b373d98b6b",
   "metadata": {},
   "source": [
    "## create a function that will give factorial of given number"
   ]
  },
  {
   "cell_type": "code",
   "execution_count": 33,
   "id": "36973a90-a4fa-4b14-b236-f3b8cd0a39e7",
   "metadata": {},
   "outputs": [],
   "source": [
    "def factorial():\n",
    "    fact=1\n",
    "    n=int(input(\"enter a number: \"))\n",
    "    for i in range(1,n+1):\n",
    "        fact=fact*i\n",
    "    return fact"
   ]
  },
  {
   "cell_type": "code",
   "execution_count": 34,
   "id": "bc3aab20-b845-407d-8a03-5dedf749b216",
   "metadata": {},
   "outputs": [
    {
     "name": "stdin",
     "output_type": "stream",
     "text": [
      "enter a number:  6\n"
     ]
    },
    {
     "data": {
      "text/plain": [
       "720"
      ]
     },
     "execution_count": 34,
     "metadata": {},
     "output_type": "execute_result"
    }
   ],
   "source": [
    "factorial()"
   ]
  },
  {
   "cell_type": "code",
   "execution_count": 26,
   "id": "51916130-aea7-4ea8-b514-bf981ea2b04e",
   "metadata": {},
   "outputs": [],
   "source": [
    "# recursive function \n",
    "def recur_fact(n):\n",
    "    if n>=1:\n",
    "        return n*recur_fact(n-1)\n",
    "    else:\n",
    "        return 1"
   ]
  },
  {
   "cell_type": "code",
   "execution_count": 27,
   "id": "264c8e96-c434-47b7-ac94-c557267ec75e",
   "metadata": {},
   "outputs": [
    {
     "data": {
      "text/plain": [
       "5040"
      ]
     },
     "execution_count": 27,
     "metadata": {},
     "output_type": "execute_result"
    }
   ],
   "source": [
    "factorial(7)"
   ]
  },
  {
   "cell_type": "markdown",
   "id": "441bbecd-210a-44c8-b59e-c8631fdc3fbf",
   "metadata": {},
   "source": [
    "## create fibonacci series "
   ]
  },
  {
   "cell_type": "code",
   "execution_count": 35,
   "id": "dd62794e-fbb3-4e30-be9b-9718f7df85f4",
   "metadata": {},
   "outputs": [],
   "source": [
    "def fib_series(n):\n",
    "    a=0\n",
    "    b=1\n",
    "    for i in range(n):\n",
    "        print(a)\n",
    "        c=a+b\n",
    "        a=b\n",
    "        b=c\n"
   ]
  },
  {
   "cell_type": "code",
   "execution_count": 36,
   "id": "4c8b315a-dc07-40cd-8384-0d6f383d94f5",
   "metadata": {},
   "outputs": [
    {
     "name": "stdout",
     "output_type": "stream",
     "text": [
      "0\n",
      "1\n",
      "1\n",
      "2\n",
      "3\n"
     ]
    }
   ],
   "source": [
    "fib_series(5)"
   ]
  },
  {
   "cell_type": "code",
   "execution_count": 47,
   "id": "38776cfd-2559-408f-a1cd-9fa118d95e84",
   "metadata": {},
   "outputs": [
    {
     "name": "stdout",
     "output_type": "stream",
     "text": [
      "0\n",
      "1\n",
      "1\n",
      "2\n",
      "3\n"
     ]
    }
   ],
   "source": [
    "def recurfib(n):\n",
    "    if n<=1:\n",
    "      return n\n",
    "    else:\n",
    "      return(recurfib(n-1)+recurfib(n-2))\n",
    "for i in range(5):\n",
    "    print(recurfib(i))"
   ]
  },
  {
   "cell_type": "code",
   "execution_count": null,
   "id": "7f7d283a-a85d-4003-8d20-6d88f26fce34",
   "metadata": {},
   "outputs": [],
   "source": [
    "# \"she Sells Seashells\" count uppercase & lowercase alfabets in given string."
   ]
  },
  {
   "cell_type": "code",
   "execution_count": 48,
   "id": "70e5d655-2d1e-4a90-892c-b6f332530de6",
   "metadata": {},
   "outputs": [
    {
     "data": {
      "text/plain": [
       "'SHE SELLS SEASHELLS'"
      ]
     },
     "execution_count": 48,
     "metadata": {},
     "output_type": "execute_result"
    }
   ],
   "source": [
    "\"she Sells Seashells\".upper()"
   ]
  },
  {
   "cell_type": "code",
   "execution_count": 49,
   "id": "4e1fa9b7-01f7-49c4-a92c-0b7205242c65",
   "metadata": {},
   "outputs": [
    {
     "data": {
      "text/plain": [
       "'she sells seashells'"
      ]
     },
     "execution_count": 49,
     "metadata": {},
     "output_type": "execute_result"
    }
   ],
   "source": [
    "\"she Sells Seashells\".lower()"
   ]
  },
  {
   "cell_type": "code",
   "execution_count": 50,
   "id": "e9f93fb4-7a8f-469e-a96c-5672ec4c1ca0",
   "metadata": {},
   "outputs": [
    {
     "data": {
      "text/plain": [
       "19"
      ]
     },
     "execution_count": 50,
     "metadata": {},
     "output_type": "execute_result"
    }
   ],
   "source": [
    "len(\"she Sells Seashells\")"
   ]
  },
  {
   "cell_type": "code",
   "execution_count": 54,
   "id": "962c2e37-5b16-4d94-94b4-6637d080905b",
   "metadata": {},
   "outputs": [
    {
     "name": "stdout",
     "output_type": "stream",
     "text": [
      "Uppercase letters: 1 Lowercase letters: 0\n",
      "Uppercase letters: 1 Lowercase letters: 1\n",
      "Uppercase letters: 1 Lowercase letters: 2\n",
      "Uppercase letters: 1 Lowercase letters: 2\n",
      "Uppercase letters: 2 Lowercase letters: 2\n",
      "Uppercase letters: 2 Lowercase letters: 3\n",
      "Uppercase letters: 2 Lowercase letters: 4\n",
      "Uppercase letters: 2 Lowercase letters: 5\n",
      "Uppercase letters: 2 Lowercase letters: 6\n",
      "Uppercase letters: 2 Lowercase letters: 6\n",
      "Uppercase letters: 3 Lowercase letters: 6\n",
      "Uppercase letters: 3 Lowercase letters: 7\n",
      "Uppercase letters: 3 Lowercase letters: 8\n",
      "Uppercase letters: 3 Lowercase letters: 9\n",
      "Uppercase letters: 3 Lowercase letters: 10\n",
      "Uppercase letters: 3 Lowercase letters: 11\n",
      "Uppercase letters: 3 Lowercase letters: 12\n",
      "Uppercase letters: 3 Lowercase letters: 13\n",
      "Uppercase letters: 3 Lowercase letters: 14\n"
     ]
    }
   ],
   "source": [
    "x=\"She Sells Seashells\"\n",
    "count_upper=0\n",
    "count_lower=0\n",
    "for i in x:\n",
    "    if i.isupper():\n",
    "        count_upper+=1\n",
    "    elif i.islower():\n",
    "        count_lower+=1\n",
    "    print(\"Uppercase letters:\",count_upper,\"Lowercase letters:\",count_lower)"
   ]
  },
  {
   "cell_type": "code",
   "execution_count": 53,
   "id": "f3931a59-3371-45e1-9492-d23a5033e87e",
   "metadata": {},
   "outputs": [
    {
     "name": "stdout",
     "output_type": "stream",
     "text": [
      "Uppercase letters: 3 Lowercase letters: 14\n"
     ]
    }
   ],
   "source": [
    "x=\"She Sells Seashells\"\n",
    "count_upper=0\n",
    "count_lower=0\n",
    "for i in x:\n",
    "    if i.isupper():\n",
    "        count_upper+=1\n",
    "    elif i.islower():\n",
    "        count_lower+=1\n",
    "print(\"Uppercase letters:\",count_upper,\"Lowercase letters:\",count_lower)"
   ]
  },
  {
   "cell_type": "code",
   "execution_count": 62,
   "id": "fa3fe031-3f77-4f58-bdb4-7b5e291dd6bf",
   "metadata": {},
   "outputs": [
    {
     "name": "stdout",
     "output_type": "stream",
     "text": [
      "6.0\n",
      "run successfuly\n"
     ]
    }
   ],
   "source": [
    "\n",
    "try:\n",
    "    x=6\n",
    "    y=1\n",
    "    x/y\n",
    "except:\n",
    "    print('error')\n",
    "else:\n",
    "    print(x/y)\n",
    "finally:\n",
    "    print('run successfuly')"
   ]
  },
  {
   "cell_type": "code",
   "execution_count": 63,
   "id": "e6c52957-982d-4510-b8ee-06b5c48ed33c",
   "metadata": {},
   "outputs": [
    {
     "name": "stdout",
     "output_type": "stream",
     "text": [
      "6.0\n",
      "run successfuly\n"
     ]
    }
   ],
   "source": [
    "try:\n",
    "    x=6\n",
    "    y=1\n",
    "    x/y\n",
    "except zerodivisionerror :\n",
    "    print('error')\n",
    "else:\n",
    "    print(x/y)\n",
    "finally:\n",
    "    print('run successfuly')"
   ]
  },
  {
   "cell_type": "code",
   "execution_count": 65,
   "id": "a229e8a0-22ce-45e0-90fe-8ed56c3ac1bd",
   "metadata": {},
   "outputs": [
    {
     "name": "stdout",
     "output_type": "stream",
     "text": [
      "0.6\n",
      "run successfuly\n"
     ]
    }
   ],
   "source": [
    "try:\n",
    "    x=6\n",
    "    y=10\n",
    "    x/y\n",
    "except :\n",
    "    print('error')\n",
    "else:\n",
    "    print(x/y)\n",
    "finally:\n",
    "    print('run successfuly')"
   ]
  },
  {
   "cell_type": "code",
   "execution_count": 66,
   "id": "cee6ae65-526f-4615-a2bb-56b6e7c3f0c4",
   "metadata": {},
   "outputs": [],
   "source": [
    "file=open('text1.txt','w')\n",
    "file.write(\"this is first line\")\n",
    "file.close()"
   ]
  },
  {
   "cell_type": "code",
   "execution_count": 67,
   "id": "cad648f0-6612-4939-99a5-37b5fc5af2b6",
   "metadata": {},
   "outputs": [
    {
     "name": "stdout",
     "output_type": "stream",
     "text": [
      "this is first line\n"
     ]
    }
   ],
   "source": [
    "file=open('text1.txt','r')\n",
    "print(file.read())\n",
    "file.close()"
   ]
  },
  {
   "cell_type": "code",
   "execution_count": 70,
   "id": "2c84f9e4-de89-4f83-ac3d-1c2d9fead0ac",
   "metadata": {},
   "outputs": [],
   "source": [
    "file=open('text1.txt','a')\n",
    "file.write(\"\\nthis is second line\")\n",
    "file.close()"
   ]
  },
  {
   "cell_type": "code",
   "execution_count": 71,
   "id": "7099fdbe-7580-4bfb-8189-f926fd69a56b",
   "metadata": {},
   "outputs": [
    {
     "name": "stdout",
     "output_type": "stream",
     "text": [
      "this is first line\n",
      "this is second line\n"
     ]
    }
   ],
   "source": [
    "file=open('text1.txt','r')\n",
    "print(file.read())\n",
    "file.close()"
   ]
  },
  {
   "cell_type": "code",
   "execution_count": 72,
   "id": "deba845d-f1b2-410e-b5e4-da229408b05f",
   "metadata": {},
   "outputs": [],
   "source": [
    "file=open('text1.txt','a')\n",
    "file.write(\"\\nthis is third line\")\n",
    "file.close()"
   ]
  },
  {
   "cell_type": "code",
   "execution_count": 73,
   "id": "967fee90-28bd-4bdc-a013-e302dc3d99dd",
   "metadata": {},
   "outputs": [
    {
     "name": "stdout",
     "output_type": "stream",
     "text": [
      "this is first line\n",
      "this is second line\n",
      "this is third line\n"
     ]
    }
   ],
   "source": [
    "file=open('text1.txt','r')\n",
    "print(file.read())\n",
    "file.close()"
   ]
  },
  {
   "cell_type": "markdown",
   "id": "157ea070-3bdf-4327-9cae-f2cf8f9b866f",
   "metadata": {},
   "source": [
    "## find the longest word in the text1.txtfile"
   ]
  },
  {
   "cell_type": "code",
   "execution_count": 78,
   "id": "c051f93a-5805-443b-8682-0c6edc47763a",
   "metadata": {},
   "outputs": [
    {
     "name": "stdout",
     "output_type": "stream",
     "text": [
      "['this', 'is', 'first', 'line', 'this', 'is', 'second', 'line', 'this', 'is', 'third', 'line']\n"
     ]
    }
   ],
   "source": [
    "file=open('text1.txt','r')\n",
    "word_list=file.read().split()\n",
    "print(word_list)                    "
   ]
  },
  {
   "cell_type": "code",
   "execution_count": 80,
   "id": "755189c9-4ee0-4da1-bb20-bf574fe3e1ad",
   "metadata": {},
   "outputs": [
    {
     "data": {
      "text/plain": [
       "'second'"
      ]
     },
     "execution_count": 80,
     "metadata": {},
     "output_type": "execute_result"
    }
   ],
   "source": [
    "max(word_list,key=len)"
   ]
  },
  {
   "cell_type": "code",
   "execution_count": 81,
   "id": "1637876e-dd96-4803-b29d-2cfa6d51b42a",
   "metadata": {},
   "outputs": [
    {
     "data": {
      "text/plain": [
       "'c'"
      ]
     },
     "execution_count": 81,
     "metadata": {},
     "output_type": "execute_result"
    }
   ],
   "source": [
    "chr(99)"
   ]
  },
  {
   "cell_type": "code",
   "execution_count": 82,
   "id": "00b74e6f-a374-4a6e-835e-1175e1dcef8b",
   "metadata": {},
   "outputs": [
    {
     "data": {
      "text/plain": [
       "116"
      ]
     },
     "execution_count": 82,
     "metadata": {},
     "output_type": "execute_result"
    }
   ],
   "source": [
    "ord('t')"
   ]
  },
  {
   "cell_type": "code",
   "execution_count": 83,
   "id": "d66f6d70-b404-4c82-95f3-d8b8e5fe2983",
   "metadata": {},
   "outputs": [
    {
     "data": {
      "text/plain": [
       "115"
      ]
     },
     "execution_count": 83,
     "metadata": {},
     "output_type": "execute_result"
    }
   ],
   "source": [
    "ord('s')"
   ]
  },
  {
   "cell_type": "code",
   "execution_count": 84,
   "id": "d0e904d4-5c6a-4406-9b27-9b9471d53e5f",
   "metadata": {},
   "outputs": [
    {
     "data": {
      "text/plain": [
       "'this'"
      ]
     },
     "execution_count": 84,
     "metadata": {},
     "output_type": "execute_result"
    }
   ],
   "source": [
    "max(word_list)"
   ]
  },
  {
   "cell_type": "code",
   "execution_count": 3,
   "id": "ad58a047-eb9b-4793-85f0-91163985f7ce",
   "metadata": {},
   "outputs": [],
   "source": [
    "l=[1,2,3,4,5,6,7,8,9,10]\n",
    "# create a list of odd numbers from the list \n"
   ]
  },
  {
   "cell_type": "code",
   "execution_count": 2,
   "id": "0053b256-c625-4b00-9593-2f23bb4c2dfa",
   "metadata": {
    "scrolled": true
   },
   "outputs": [
    {
     "data": {
      "text/plain": [
       "[1, 3, 5, 7, 9]"
      ]
     },
     "execution_count": 2,
     "metadata": {},
     "output_type": "execute_result"
    }
   ],
   "source": [
    "odd_num = list(filter(lambda i:i%2!=0, l) )\n",
    "odd_num"
   ]
  },
  {
   "cell_type": "code",
   "execution_count": 4,
   "id": "96748654-e8cb-4cb8-a8b4-073247b64b01",
   "metadata": {},
   "outputs": [
    {
     "data": {
      "text/plain": [
       "[2, 4, 6, 8, 10]"
      ]
     },
     "execution_count": 4,
     "metadata": {},
     "output_type": "execute_result"
    }
   ],
   "source": [
    "even_num = list(filter(lambda i:i%2==0, l))\n",
    "even_num"
   ]
  },
  {
   "cell_type": "code",
   "execution_count": 9,
   "id": "f309427d-f1d4-4d51-bf01-43a11d9a7a04",
   "metadata": {},
   "outputs": [
    {
     "name": "stdout",
     "output_type": "stream",
     "text": [
      "[2, 3, 5, 6, 9]\n"
     ]
    }
   ],
   "source": [
    "l1=[3,6,2,9,5]\n",
    "l1.sort()\n",
    "print(l1)"
   ]
  },
  {
   "cell_type": "code",
   "execution_count": 8,
   "id": "d2958756-f660-43e5-a402-fcdb756c4ffb",
   "metadata": {},
   "outputs": [
    {
     "data": {
      "text/plain": [
       "'p'"
      ]
     },
     "execution_count": 8,
     "metadata": {},
     "output_type": "execute_result"
    }
   ],
   "source": [
    "f=['mango','apple','banana','orange']\n",
    "f[1][1]"
   ]
  },
  {
   "cell_type": "code",
   "execution_count": 1,
   "id": "11b96e42-fe53-4546-acb0-9a4634aa1b00",
   "metadata": {},
   "outputs": [],
   "source": [
    "fruit_list=[[\"mango\",100],[\"apple\",250],[\"banana\",200],[\"orange\",280]]\n"
   ]
  },
  {
   "cell_type": "code",
   "execution_count": 2,
   "id": "32f5e9c6-ad68-4972-8894-49aae555b0ef",
   "metadata": {},
   "outputs": [
    {
     "data": {
      "text/plain": [
       "[['mango', 100], ['banana', 200], ['apple', 250], ['orange', 280]]"
      ]
     },
     "execution_count": 2,
     "metadata": {},
     "output_type": "execute_result"
    }
   ],
   "source": [
    "# sort above list based on quantity \n",
    "fruit_list.sort(key=lambda x:x[1])\n",
    "fruit_list"
   ]
  },
  {
   "cell_type": "code",
   "execution_count": 3,
   "id": "b07ddfc7-286c-4b16-8b52-dfaa98ea3a56",
   "metadata": {},
   "outputs": [
    {
     "data": {
      "text/plain": [
       "{'Aakash': [1998, 'pune'], 'sonu': [1995, 'Mumbai'], 'Sushil': [1996, 'Delhi']}"
      ]
     },
     "execution_count": 3,
     "metadata": {},
     "output_type": "execute_result"
    }
   ],
   "source": [
    "dict1={\"Aakash\":[1998,'pune'],\"sonu\":[1995,'Mumbai'],'Sushil':[1996,'Delhi']}\n",
    "dict1"
   ]
  },
  {
   "cell_type": "code",
   "execution_count": 5,
   "id": "dfea562d-5b32-401a-b1aa-1a6cd9c9ab06",
   "metadata": {},
   "outputs": [
    {
     "data": {
      "text/plain": [
       "dict_keys(['Aakash', 'sonu', 'Sushil'])"
      ]
     },
     "execution_count": 5,
     "metadata": {},
     "output_type": "execute_result"
    }
   ],
   "source": [
    "dict1.keys()"
   ]
  },
  {
   "cell_type": "code",
   "execution_count": 6,
   "id": "183e206a-5d3d-4e5c-af5f-f83d01c70793",
   "metadata": {},
   "outputs": [
    {
     "data": {
      "text/plain": [
       "[1998, 'pune']"
      ]
     },
     "execution_count": 6,
     "metadata": {},
     "output_type": "execute_result"
    }
   ],
   "source": [
    "dict1['Aakash']"
   ]
  },
  {
   "cell_type": "markdown",
   "id": "0ea424f2-c487-45d9-bff5-560f81ee98b5",
   "metadata": {},
   "source": [
    "## create a dataframe using above mentioned dictionary."
   ]
  },
  {
   "cell_type": "code",
   "execution_count": 10,
   "id": "7fdc7c7c-3563-4811-b004-67ac99dd058a",
   "metadata": {},
   "outputs": [
    {
     "data": {
      "text/html": [
       "<div>\n",
       "<style scoped>\n",
       "    .dataframe tbody tr th:only-of-type {\n",
       "        vertical-align: middle;\n",
       "    }\n",
       "\n",
       "    .dataframe tbody tr th {\n",
       "        vertical-align: top;\n",
       "    }\n",
       "\n",
       "    .dataframe thead th {\n",
       "        text-align: right;\n",
       "    }\n",
       "</style>\n",
       "<table border=\"1\" class=\"dataframe\">\n",
       "  <thead>\n",
       "    <tr style=\"text-align: right;\">\n",
       "      <th></th>\n",
       "      <th>Aakash</th>\n",
       "      <th>sonu</th>\n",
       "      <th>Sushil</th>\n",
       "    </tr>\n",
       "  </thead>\n",
       "  <tbody>\n",
       "    <tr>\n",
       "      <th>0</th>\n",
       "      <td>1998</td>\n",
       "      <td>1995</td>\n",
       "      <td>1996</td>\n",
       "    </tr>\n",
       "    <tr>\n",
       "      <th>1</th>\n",
       "      <td>pune</td>\n",
       "      <td>Mumbai</td>\n",
       "      <td>Delhi</td>\n",
       "    </tr>\n",
       "  </tbody>\n",
       "</table>\n",
       "</div>"
      ],
      "text/plain": [
       "  Aakash    sonu Sushil\n",
       "0   1998    1995   1996\n",
       "1   pune  Mumbai  Delhi"
      ]
     },
     "execution_count": 10,
     "metadata": {},
     "output_type": "execute_result"
    }
   ],
   "source": [
    "import pandas as pd \n",
    "df=pd.DataFrame(dict1)\n",
    "df"
   ]
  },
  {
   "cell_type": "code",
   "execution_count": 11,
   "id": "8f8e9a9a-f4b0-4734-aba4-18f0b49129db",
   "metadata": {},
   "outputs": [],
   "source": [
    "df.to_csv('data1.csv')"
   ]
  },
  {
   "cell_type": "code",
   "execution_count": 16,
   "id": "d55d4508-fec0-424c-afb1-a7aa479bb7ae",
   "metadata": {},
   "outputs": [],
   "source": [
    "data={\"Name\":['Aakash','Sonu','Shushil','Shivani','Jenny',],\n",
    "      'Age':[26,27,25,31,29],\n",
    "      \"city\":['Pune','Mumbai','Delhi','Pune','Mumbai']}"
   ]
  },
  {
   "cell_type": "code",
   "execution_count": 17,
   "id": "d817a8e8-0e91-4993-9604-4625d5d22d98",
   "metadata": {},
   "outputs": [
    {
     "data": {
      "text/html": [
       "<div>\n",
       "<style scoped>\n",
       "    .dataframe tbody tr th:only-of-type {\n",
       "        vertical-align: middle;\n",
       "    }\n",
       "\n",
       "    .dataframe tbody tr th {\n",
       "        vertical-align: top;\n",
       "    }\n",
       "\n",
       "    .dataframe thead th {\n",
       "        text-align: right;\n",
       "    }\n",
       "</style>\n",
       "<table border=\"1\" class=\"dataframe\">\n",
       "  <thead>\n",
       "    <tr style=\"text-align: right;\">\n",
       "      <th></th>\n",
       "      <th>Name</th>\n",
       "      <th>Age</th>\n",
       "      <th>city</th>\n",
       "    </tr>\n",
       "  </thead>\n",
       "  <tbody>\n",
       "    <tr>\n",
       "      <th>0</th>\n",
       "      <td>Aakash</td>\n",
       "      <td>26</td>\n",
       "      <td>Pune</td>\n",
       "    </tr>\n",
       "    <tr>\n",
       "      <th>1</th>\n",
       "      <td>Sonu</td>\n",
       "      <td>27</td>\n",
       "      <td>Mumbai</td>\n",
       "    </tr>\n",
       "    <tr>\n",
       "      <th>2</th>\n",
       "      <td>Shushil</td>\n",
       "      <td>25</td>\n",
       "      <td>Delhi</td>\n",
       "    </tr>\n",
       "    <tr>\n",
       "      <th>3</th>\n",
       "      <td>Shivani</td>\n",
       "      <td>31</td>\n",
       "      <td>Pune</td>\n",
       "    </tr>\n",
       "    <tr>\n",
       "      <th>4</th>\n",
       "      <td>Jenny</td>\n",
       "      <td>29</td>\n",
       "      <td>Mumbai</td>\n",
       "    </tr>\n",
       "  </tbody>\n",
       "</table>\n",
       "</div>"
      ],
      "text/plain": [
       "      Name  Age    city\n",
       "0   Aakash   26    Pune\n",
       "1     Sonu   27  Mumbai\n",
       "2  Shushil   25   Delhi\n",
       "3  Shivani   31    Pune\n",
       "4    Jenny   29  Mumbai"
      ]
     },
     "execution_count": 17,
     "metadata": {},
     "output_type": "execute_result"
    }
   ],
   "source": [
    "import pandas as pd \n",
    "df=pd.DataFrame(data)\n",
    "df"
   ]
  },
  {
   "cell_type": "code",
   "execution_count": 21,
   "id": "e65c79bf-786c-4db5-a5f8-d5b455b90d76",
   "metadata": {},
   "outputs": [
    {
     "data": {
      "text/html": [
       "<div>\n",
       "<style scoped>\n",
       "    .dataframe tbody tr th:only-of-type {\n",
       "        vertical-align: middle;\n",
       "    }\n",
       "\n",
       "    .dataframe tbody tr th {\n",
       "        vertical-align: top;\n",
       "    }\n",
       "\n",
       "    .dataframe thead th {\n",
       "        text-align: right;\n",
       "    }\n",
       "</style>\n",
       "<table border=\"1\" class=\"dataframe\">\n",
       "  <thead>\n",
       "    <tr style=\"text-align: right;\">\n",
       "      <th></th>\n",
       "      <th>Name</th>\n",
       "      <th>Age</th>\n",
       "      <th>city</th>\n",
       "    </tr>\n",
       "  </thead>\n",
       "  <tbody>\n",
       "    <tr>\n",
       "      <th>3</th>\n",
       "      <td>Shivani</td>\n",
       "      <td>31</td>\n",
       "      <td>Pune</td>\n",
       "    </tr>\n",
       "    <tr>\n",
       "      <th>4</th>\n",
       "      <td>Jenny</td>\n",
       "      <td>29</td>\n",
       "      <td>Mumbai</td>\n",
       "    </tr>\n",
       "  </tbody>\n",
       "</table>\n",
       "</div>"
      ],
      "text/plain": [
       "      Name  Age    city\n",
       "3  Shivani   31    Pune\n",
       "4    Jenny   29  Mumbai"
      ]
     },
     "execution_count": 21,
     "metadata": {},
     "output_type": "execute_result"
    }
   ],
   "source": [
    "df[df['Age']>28]  #o/p is greater than given number"
   ]
  },
  {
   "cell_type": "code",
   "execution_count": 20,
   "id": "65e6c207-b601-45cf-93bb-25c33e577d40",
   "metadata": {},
   "outputs": [
    {
     "data": {
      "text/plain": [
       "0    False\n",
       "1    False\n",
       "2    False\n",
       "3     True\n",
       "4     True\n",
       "Name: Age, dtype: bool"
      ]
     },
     "execution_count": 20,
     "metadata": {},
     "output_type": "execute_result"
    }
   ],
   "source": [
    "df['Age']>28 #o/p in true or false"
   ]
  },
  {
   "cell_type": "code",
   "execution_count": 22,
   "id": "d2c8ae23-a16c-4b80-9864-5f7eda253f33",
   "metadata": {},
   "outputs": [
    {
     "data": {
      "text/plain": [
       "Name      Sonu\n",
       "Age         27\n",
       "city    Mumbai\n",
       "Name: 1, dtype: object"
      ]
     },
     "execution_count": 22,
     "metadata": {},
     "output_type": "execute_result"
    }
   ],
   "source": [
    "df.loc[1]"
   ]
  },
  {
   "cell_type": "code",
   "execution_count": 23,
   "id": "38ff041d-ef8d-44ee-b96f-490cd5cbaedc",
   "metadata": {},
   "outputs": [
    {
     "data": {
      "text/plain": [
       "'Shushil'"
      ]
     },
     "execution_count": 23,
     "metadata": {},
     "output_type": "execute_result"
    }
   ],
   "source": [
    "df.at[2,'Name']"
   ]
  },
  {
   "cell_type": "code",
   "execution_count": 24,
   "id": "b4ba5171-cd5f-4d0a-a5dd-f7c776f417ad",
   "metadata": {},
   "outputs": [
    {
     "data": {
      "text/html": [
       "<div>\n",
       "<style scoped>\n",
       "    .dataframe tbody tr th:only-of-type {\n",
       "        vertical-align: middle;\n",
       "    }\n",
       "\n",
       "    .dataframe tbody tr th {\n",
       "        vertical-align: top;\n",
       "    }\n",
       "\n",
       "    .dataframe thead th {\n",
       "        text-align: right;\n",
       "    }\n",
       "</style>\n",
       "<table border=\"1\" class=\"dataframe\">\n",
       "  <thead>\n",
       "    <tr style=\"text-align: right;\">\n",
       "      <th></th>\n",
       "      <th>Name</th>\n",
       "      <th>Age</th>\n",
       "      <th>city</th>\n",
       "    </tr>\n",
       "  </thead>\n",
       "  <tbody>\n",
       "    <tr>\n",
       "      <th>2</th>\n",
       "      <td>Shushil</td>\n",
       "      <td>25</td>\n",
       "      <td>Delhi</td>\n",
       "    </tr>\n",
       "    <tr>\n",
       "      <th>0</th>\n",
       "      <td>Aakash</td>\n",
       "      <td>26</td>\n",
       "      <td>Pune</td>\n",
       "    </tr>\n",
       "    <tr>\n",
       "      <th>1</th>\n",
       "      <td>Sonu</td>\n",
       "      <td>27</td>\n",
       "      <td>Mumbai</td>\n",
       "    </tr>\n",
       "    <tr>\n",
       "      <th>4</th>\n",
       "      <td>Jenny</td>\n",
       "      <td>29</td>\n",
       "      <td>Mumbai</td>\n",
       "    </tr>\n",
       "    <tr>\n",
       "      <th>3</th>\n",
       "      <td>Shivani</td>\n",
       "      <td>31</td>\n",
       "      <td>Pune</td>\n",
       "    </tr>\n",
       "  </tbody>\n",
       "</table>\n",
       "</div>"
      ],
      "text/plain": [
       "      Name  Age    city\n",
       "2  Shushil   25   Delhi\n",
       "0   Aakash   26    Pune\n",
       "1     Sonu   27  Mumbai\n",
       "4    Jenny   29  Mumbai\n",
       "3  Shivani   31    Pune"
      ]
     },
     "execution_count": 24,
     "metadata": {},
     "output_type": "execute_result"
    }
   ],
   "source": [
    "df.sort_values('Age') # values in ascending order "
   ]
  },
  {
   "cell_type": "code",
   "execution_count": 26,
   "id": "e6a69873-fefc-47d1-8732-01c1f9f2cfce",
   "metadata": {},
   "outputs": [
    {
     "data": {
      "text/html": [
       "<div>\n",
       "<style scoped>\n",
       "    .dataframe tbody tr th:only-of-type {\n",
       "        vertical-align: middle;\n",
       "    }\n",
       "\n",
       "    .dataframe tbody tr th {\n",
       "        vertical-align: top;\n",
       "    }\n",
       "\n",
       "    .dataframe thead th {\n",
       "        text-align: right;\n",
       "    }\n",
       "</style>\n",
       "<table border=\"1\" class=\"dataframe\">\n",
       "  <thead>\n",
       "    <tr style=\"text-align: right;\">\n",
       "      <th></th>\n",
       "      <th>Name</th>\n",
       "      <th>Age</th>\n",
       "      <th>city</th>\n",
       "    </tr>\n",
       "  </thead>\n",
       "  <tbody>\n",
       "    <tr>\n",
       "      <th>3</th>\n",
       "      <td>Shivani</td>\n",
       "      <td>31</td>\n",
       "      <td>Pune</td>\n",
       "    </tr>\n",
       "    <tr>\n",
       "      <th>4</th>\n",
       "      <td>Jenny</td>\n",
       "      <td>29</td>\n",
       "      <td>Mumbai</td>\n",
       "    </tr>\n",
       "    <tr>\n",
       "      <th>1</th>\n",
       "      <td>Sonu</td>\n",
       "      <td>27</td>\n",
       "      <td>Mumbai</td>\n",
       "    </tr>\n",
       "    <tr>\n",
       "      <th>0</th>\n",
       "      <td>Aakash</td>\n",
       "      <td>26</td>\n",
       "      <td>Pune</td>\n",
       "    </tr>\n",
       "    <tr>\n",
       "      <th>2</th>\n",
       "      <td>Shushil</td>\n",
       "      <td>25</td>\n",
       "      <td>Delhi</td>\n",
       "    </tr>\n",
       "  </tbody>\n",
       "</table>\n",
       "</div>"
      ],
      "text/plain": [
       "      Name  Age    city\n",
       "3  Shivani   31    Pune\n",
       "4    Jenny   29  Mumbai\n",
       "1     Sonu   27  Mumbai\n",
       "0   Aakash   26    Pune\n",
       "2  Shushil   25   Delhi"
      ]
     },
     "execution_count": 26,
     "metadata": {},
     "output_type": "execute_result"
    }
   ],
   "source": [
    "df.sort_values('Age',ascending=False) # values in descending order "
   ]
  },
  {
   "cell_type": "code",
   "execution_count": null,
   "id": "eb35aa71-6d38-4c59-af85-e52a9322e8b9",
   "metadata": {},
   "outputs": [],
   "source": [
    "## find the average age of presons from Mumbai."
   ]
  },
  {
   "cell_type": "code",
   "execution_count": 28,
   "id": "8fcb9046-0713-4683-a9f1-f125eaec23a2",
   "metadata": {},
   "outputs": [
    {
     "data": {
      "text/html": [
       "<div>\n",
       "<style scoped>\n",
       "    .dataframe tbody tr th:only-of-type {\n",
       "        vertical-align: middle;\n",
       "    }\n",
       "\n",
       "    .dataframe tbody tr th {\n",
       "        vertical-align: top;\n",
       "    }\n",
       "\n",
       "    .dataframe thead th {\n",
       "        text-align: right;\n",
       "    }\n",
       "</style>\n",
       "<table border=\"1\" class=\"dataframe\">\n",
       "  <thead>\n",
       "    <tr style=\"text-align: right;\">\n",
       "      <th></th>\n",
       "      <th>Name</th>\n",
       "      <th>Age</th>\n",
       "      <th>city</th>\n",
       "    </tr>\n",
       "  </thead>\n",
       "  <tbody>\n",
       "    <tr>\n",
       "      <th>1</th>\n",
       "      <td>Sonu</td>\n",
       "      <td>27</td>\n",
       "      <td>Mumbai</td>\n",
       "    </tr>\n",
       "    <tr>\n",
       "      <th>4</th>\n",
       "      <td>Jenny</td>\n",
       "      <td>29</td>\n",
       "      <td>Mumbai</td>\n",
       "    </tr>\n",
       "  </tbody>\n",
       "</table>\n",
       "</div>"
      ],
      "text/plain": [
       "    Name  Age    city\n",
       "1   Sonu   27  Mumbai\n",
       "4  Jenny   29  Mumbai"
      ]
     },
     "execution_count": 28,
     "metadata": {},
     "output_type": "execute_result"
    }
   ],
   "source": [
    "df[df['city']=='Mumbai']#['Age'].mean()"
   ]
  },
  {
   "cell_type": "code",
   "execution_count": 61,
   "id": "478886ec-d89d-473a-aa43-be9af47c32e8",
   "metadata": {},
   "outputs": [
    {
     "data": {
      "text/plain": [
       "28.0"
      ]
     },
     "execution_count": 61,
     "metadata": {},
     "output_type": "execute_result"
    }
   ],
   "source": [
    "df[df['city']=='Mumbai']['Age'].mean()"
   ]
  },
  {
   "cell_type": "code",
   "execution_count": 62,
   "id": "c733ff58-96b4-4493-a771-c8b8b499a19e",
   "metadata": {},
   "outputs": [
    {
     "data": {
      "text/plain": [
       "city\n",
       "Delhi     25.0\n",
       "Mumbai    28.0\n",
       "Pune      28.5\n",
       "Name: Age, dtype: float64"
      ]
     },
     "execution_count": 62,
     "metadata": {},
     "output_type": "execute_result"
    }
   ],
   "source": [
    "df.groupby('city')['Age'].mean()"
   ]
  },
  {
   "cell_type": "markdown",
   "id": "05fc781c-8a2c-412c-aa65-cc66665a6fda",
   "metadata": {},
   "source": [
    "## convert all names given names in this dataframe in  uppercase "
   ]
  },
  {
   "cell_type": "code",
   "execution_count": 32,
   "id": "ee338c5d-8bef-4dae-82bb-be19e862fdc2",
   "metadata": {},
   "outputs": [
    {
     "data": {
      "text/plain": [
       "0     AAKASH\n",
       "1       SONU\n",
       "2    SHUSHIL\n",
       "3    SHIVANI\n",
       "4      JENNY\n",
       "Name: Name, dtype: object"
      ]
     },
     "execution_count": 32,
     "metadata": {},
     "output_type": "execute_result"
    }
   ],
   "source": [
    "df['Name'].str.upper()"
   ]
  },
  {
   "cell_type": "code",
   "execution_count": 33,
   "id": "2c5e5f70-fd54-4805-b775-5cb97dc8736a",
   "metadata": {},
   "outputs": [
    {
     "data": {
      "text/html": [
       "<div>\n",
       "<style scoped>\n",
       "    .dataframe tbody tr th:only-of-type {\n",
       "        vertical-align: middle;\n",
       "    }\n",
       "\n",
       "    .dataframe tbody tr th {\n",
       "        vertical-align: top;\n",
       "    }\n",
       "\n",
       "    .dataframe thead th {\n",
       "        text-align: right;\n",
       "    }\n",
       "</style>\n",
       "<table border=\"1\" class=\"dataframe\">\n",
       "  <thead>\n",
       "    <tr style=\"text-align: right;\">\n",
       "      <th></th>\n",
       "      <th>Name</th>\n",
       "      <th>Age</th>\n",
       "      <th>city</th>\n",
       "    </tr>\n",
       "  </thead>\n",
       "  <tbody>\n",
       "    <tr>\n",
       "      <th>0</th>\n",
       "      <td>Aakash</td>\n",
       "      <td>26</td>\n",
       "      <td>Pune</td>\n",
       "    </tr>\n",
       "    <tr>\n",
       "      <th>1</th>\n",
       "      <td>Sonu</td>\n",
       "      <td>27</td>\n",
       "      <td>Mumbai</td>\n",
       "    </tr>\n",
       "    <tr>\n",
       "      <th>2</th>\n",
       "      <td>Shushil</td>\n",
       "      <td>25</td>\n",
       "      <td>Delhi</td>\n",
       "    </tr>\n",
       "    <tr>\n",
       "      <th>3</th>\n",
       "      <td>Shivani</td>\n",
       "      <td>31</td>\n",
       "      <td>Pune</td>\n",
       "    </tr>\n",
       "    <tr>\n",
       "      <th>4</th>\n",
       "      <td>Jenny</td>\n",
       "      <td>29</td>\n",
       "      <td>Mumbai</td>\n",
       "    </tr>\n",
       "  </tbody>\n",
       "</table>\n",
       "</div>"
      ],
      "text/plain": [
       "      Name  Age    city\n",
       "0   Aakash   26    Pune\n",
       "1     Sonu   27  Mumbai\n",
       "2  Shushil   25   Delhi\n",
       "3  Shivani   31    Pune\n",
       "4    Jenny   29  Mumbai"
      ]
     },
     "execution_count": 33,
     "metadata": {},
     "output_type": "execute_result"
    }
   ],
   "source": [
    "df"
   ]
  },
  {
   "cell_type": "code",
   "execution_count": 38,
   "id": "efcb188b-9d13-4adf-98ba-7bd6f59f7f24",
   "metadata": {},
   "outputs": [
    {
     "data": {
      "text/html": [
       "<div>\n",
       "<style scoped>\n",
       "    .dataframe tbody tr th:only-of-type {\n",
       "        vertical-align: middle;\n",
       "    }\n",
       "\n",
       "    .dataframe tbody tr th {\n",
       "        vertical-align: top;\n",
       "    }\n",
       "\n",
       "    .dataframe thead th {\n",
       "        text-align: right;\n",
       "    }\n",
       "</style>\n",
       "<table border=\"1\" class=\"dataframe\">\n",
       "  <thead>\n",
       "    <tr style=\"text-align: right;\">\n",
       "      <th></th>\n",
       "      <th>Name</th>\n",
       "      <th>Age</th>\n",
       "      <th>city</th>\n",
       "    </tr>\n",
       "  </thead>\n",
       "  <tbody>\n",
       "    <tr>\n",
       "      <th>0</th>\n",
       "      <td>AAKASH</td>\n",
       "      <td>26</td>\n",
       "      <td>Pune</td>\n",
       "    </tr>\n",
       "    <tr>\n",
       "      <th>1</th>\n",
       "      <td>SONU</td>\n",
       "      <td>27</td>\n",
       "      <td>Mumbai</td>\n",
       "    </tr>\n",
       "    <tr>\n",
       "      <th>2</th>\n",
       "      <td>SHUSHIL</td>\n",
       "      <td>25</td>\n",
       "      <td>Delhi</td>\n",
       "    </tr>\n",
       "    <tr>\n",
       "      <th>3</th>\n",
       "      <td>SHIVANI</td>\n",
       "      <td>31</td>\n",
       "      <td>Pune</td>\n",
       "    </tr>\n",
       "    <tr>\n",
       "      <th>4</th>\n",
       "      <td>JENNY</td>\n",
       "      <td>29</td>\n",
       "      <td>Mumbai</td>\n",
       "    </tr>\n",
       "  </tbody>\n",
       "</table>\n",
       "</div>"
      ],
      "text/plain": [
       "      Name  Age    city\n",
       "0   AAKASH   26    Pune\n",
       "1     SONU   27  Mumbai\n",
       "2  SHUSHIL   25   Delhi\n",
       "3  SHIVANI   31    Pune\n",
       "4    JENNY   29  Mumbai"
      ]
     },
     "execution_count": 38,
     "metadata": {},
     "output_type": "execute_result"
    }
   ],
   "source": [
    "df['Name']=df['Name'].apply(lambda x:x.upper())\n",
    "df"
   ]
  },
  {
   "cell_type": "code",
   "execution_count": 39,
   "id": "fa4b9b24-4d6a-40a6-b693-6d639ad1d0cf",
   "metadata": {},
   "outputs": [
    {
     "data": {
      "text/html": [
       "<div>\n",
       "<style scoped>\n",
       "    .dataframe tbody tr th:only-of-type {\n",
       "        vertical-align: middle;\n",
       "    }\n",
       "\n",
       "    .dataframe tbody tr th {\n",
       "        vertical-align: top;\n",
       "    }\n",
       "\n",
       "    .dataframe thead th {\n",
       "        text-align: right;\n",
       "    }\n",
       "</style>\n",
       "<table border=\"1\" class=\"dataframe\">\n",
       "  <thead>\n",
       "    <tr style=\"text-align: right;\">\n",
       "      <th></th>\n",
       "      <th>Name</th>\n",
       "      <th>Age</th>\n",
       "      <th>city</th>\n",
       "    </tr>\n",
       "  </thead>\n",
       "  <tbody>\n",
       "    <tr>\n",
       "      <th>0</th>\n",
       "      <td>aakash</td>\n",
       "      <td>26</td>\n",
       "      <td>Pune</td>\n",
       "    </tr>\n",
       "    <tr>\n",
       "      <th>1</th>\n",
       "      <td>sonu</td>\n",
       "      <td>27</td>\n",
       "      <td>Mumbai</td>\n",
       "    </tr>\n",
       "    <tr>\n",
       "      <th>2</th>\n",
       "      <td>shushil</td>\n",
       "      <td>25</td>\n",
       "      <td>Delhi</td>\n",
       "    </tr>\n",
       "    <tr>\n",
       "      <th>3</th>\n",
       "      <td>shivani</td>\n",
       "      <td>31</td>\n",
       "      <td>Pune</td>\n",
       "    </tr>\n",
       "    <tr>\n",
       "      <th>4</th>\n",
       "      <td>jenny</td>\n",
       "      <td>29</td>\n",
       "      <td>Mumbai</td>\n",
       "    </tr>\n",
       "  </tbody>\n",
       "</table>\n",
       "</div>"
      ],
      "text/plain": [
       "      Name  Age    city\n",
       "0   aakash   26    Pune\n",
       "1     sonu   27  Mumbai\n",
       "2  shushil   25   Delhi\n",
       "3  shivani   31    Pune\n",
       "4    jenny   29  Mumbai"
      ]
     },
     "execution_count": 39,
     "metadata": {},
     "output_type": "execute_result"
    }
   ],
   "source": [
    "df['Name']=df['Name'].apply(lambda x:x.lower())\n",
    "df"
   ]
  },
  {
   "cell_type": "code",
   "execution_count": 40,
   "id": "33e23b18-70bb-4084-b0ae-1c9e829be85b",
   "metadata": {},
   "outputs": [
    {
     "data": {
      "text/html": [
       "<div>\n",
       "<style scoped>\n",
       "    .dataframe tbody tr th:only-of-type {\n",
       "        vertical-align: middle;\n",
       "    }\n",
       "\n",
       "    .dataframe tbody tr th {\n",
       "        vertical-align: top;\n",
       "    }\n",
       "\n",
       "    .dataframe thead th {\n",
       "        text-align: right;\n",
       "    }\n",
       "</style>\n",
       "<table border=\"1\" class=\"dataframe\">\n",
       "  <thead>\n",
       "    <tr style=\"text-align: right;\">\n",
       "      <th></th>\n",
       "      <th>Name</th>\n",
       "      <th>Age</th>\n",
       "      <th>city</th>\n",
       "    </tr>\n",
       "  </thead>\n",
       "  <tbody>\n",
       "    <tr>\n",
       "      <th>0</th>\n",
       "      <td>aakash</td>\n",
       "      <td>26</td>\n",
       "      <td>Pune</td>\n",
       "    </tr>\n",
       "    <tr>\n",
       "      <th>1</th>\n",
       "      <td>sonu</td>\n",
       "      <td>27</td>\n",
       "      <td>Mumbai</td>\n",
       "    </tr>\n",
       "    <tr>\n",
       "      <th>2</th>\n",
       "      <td>shushil</td>\n",
       "      <td>25</td>\n",
       "      <td>Delhi</td>\n",
       "    </tr>\n",
       "    <tr>\n",
       "      <th>3</th>\n",
       "      <td>shivani</td>\n",
       "      <td>31</td>\n",
       "      <td>Pune</td>\n",
       "    </tr>\n",
       "    <tr>\n",
       "      <th>4</th>\n",
       "      <td>jenny</td>\n",
       "      <td>29</td>\n",
       "      <td>Mumbai</td>\n",
       "    </tr>\n",
       "  </tbody>\n",
       "</table>\n",
       "</div>"
      ],
      "text/plain": [
       "      Name  Age    city\n",
       "0   aakash   26    Pune\n",
       "1     sonu   27  Mumbai\n",
       "2  shushil   25   Delhi\n",
       "3  shivani   31    Pune\n",
       "4    jenny   29  Mumbai"
      ]
     },
     "execution_count": 40,
     "metadata": {},
     "output_type": "execute_result"
    }
   ],
   "source": [
    "## add new 'Gender' column and provide gender values as 'M' or 'F'\n",
    "df"
   ]
  },
  {
   "cell_type": "code",
   "execution_count": 42,
   "id": "5380d3b0-77fd-47bd-9cc9-8039a2a79df2",
   "metadata": {},
   "outputs": [
    {
     "data": {
      "text/html": [
       "<div>\n",
       "<style scoped>\n",
       "    .dataframe tbody tr th:only-of-type {\n",
       "        vertical-align: middle;\n",
       "    }\n",
       "\n",
       "    .dataframe tbody tr th {\n",
       "        vertical-align: top;\n",
       "    }\n",
       "\n",
       "    .dataframe thead th {\n",
       "        text-align: right;\n",
       "    }\n",
       "</style>\n",
       "<table border=\"1\" class=\"dataframe\">\n",
       "  <thead>\n",
       "    <tr style=\"text-align: right;\">\n",
       "      <th></th>\n",
       "      <th>Name</th>\n",
       "      <th>Age</th>\n",
       "      <th>city</th>\n",
       "      <th>Gender</th>\n",
       "    </tr>\n",
       "  </thead>\n",
       "  <tbody>\n",
       "    <tr>\n",
       "      <th>0</th>\n",
       "      <td>aakash</td>\n",
       "      <td>26</td>\n",
       "      <td>Pune</td>\n",
       "      <td>M</td>\n",
       "    </tr>\n",
       "    <tr>\n",
       "      <th>1</th>\n",
       "      <td>sonu</td>\n",
       "      <td>27</td>\n",
       "      <td>Mumbai</td>\n",
       "      <td>M</td>\n",
       "    </tr>\n",
       "    <tr>\n",
       "      <th>2</th>\n",
       "      <td>shushil</td>\n",
       "      <td>25</td>\n",
       "      <td>Delhi</td>\n",
       "      <td>M</td>\n",
       "    </tr>\n",
       "    <tr>\n",
       "      <th>3</th>\n",
       "      <td>shivani</td>\n",
       "      <td>31</td>\n",
       "      <td>Pune</td>\n",
       "      <td>F</td>\n",
       "    </tr>\n",
       "    <tr>\n",
       "      <th>4</th>\n",
       "      <td>jenny</td>\n",
       "      <td>29</td>\n",
       "      <td>Mumbai</td>\n",
       "      <td>F</td>\n",
       "    </tr>\n",
       "  </tbody>\n",
       "</table>\n",
       "</div>"
      ],
      "text/plain": [
       "      Name  Age    city Gender\n",
       "0   aakash   26    Pune      M\n",
       "1     sonu   27  Mumbai      M\n",
       "2  shushil   25   Delhi      M\n",
       "3  shivani   31    Pune      F\n",
       "4    jenny   29  Mumbai      F"
      ]
     },
     "execution_count": 42,
     "metadata": {},
     "output_type": "execute_result"
    }
   ],
   "source": [
    "df['Gender']=['M','M','M','F','F']\n",
    "df"
   ]
  },
  {
   "cell_type": "code",
   "execution_count": 71,
   "id": "abd08e21-80f5-4eb9-bd20-747d522281f0",
   "metadata": {},
   "outputs": [
    {
     "data": {
      "text/html": [
       "<div>\n",
       "<style scoped>\n",
       "    .dataframe tbody tr th:only-of-type {\n",
       "        vertical-align: middle;\n",
       "    }\n",
       "\n",
       "    .dataframe tbody tr th {\n",
       "        vertical-align: top;\n",
       "    }\n",
       "\n",
       "    .dataframe thead th {\n",
       "        text-align: right;\n",
       "    }\n",
       "</style>\n",
       "<table border=\"1\" class=\"dataframe\">\n",
       "  <thead>\n",
       "    <tr style=\"text-align: right;\">\n",
       "      <th></th>\n",
       "      <th>Name</th>\n",
       "      <th>Age</th>\n",
       "      <th>city</th>\n",
       "      <th>Gender</th>\n",
       "      <th>Salary</th>\n",
       "    </tr>\n",
       "  </thead>\n",
       "  <tbody>\n",
       "    <tr>\n",
       "      <th>0</th>\n",
       "      <td>aakash</td>\n",
       "      <td>26</td>\n",
       "      <td>Pune</td>\n",
       "      <td>M</td>\n",
       "      <td>100000</td>\n",
       "    </tr>\n",
       "    <tr>\n",
       "      <th>1</th>\n",
       "      <td>sonu</td>\n",
       "      <td>27</td>\n",
       "      <td>Mumbai</td>\n",
       "      <td>M</td>\n",
       "      <td>20000</td>\n",
       "    </tr>\n",
       "    <tr>\n",
       "      <th>2</th>\n",
       "      <td>shushil</td>\n",
       "      <td>25</td>\n",
       "      <td>Delhi</td>\n",
       "      <td>M</td>\n",
       "      <td>300000</td>\n",
       "    </tr>\n",
       "    <tr>\n",
       "      <th>3</th>\n",
       "      <td>shivani</td>\n",
       "      <td>31</td>\n",
       "      <td>Pune</td>\n",
       "      <td>F</td>\n",
       "      <td>50000</td>\n",
       "    </tr>\n",
       "    <tr>\n",
       "      <th>4</th>\n",
       "      <td>jenny</td>\n",
       "      <td>29</td>\n",
       "      <td>Mumbai</td>\n",
       "      <td>F</td>\n",
       "      <td>60000</td>\n",
       "    </tr>\n",
       "  </tbody>\n",
       "</table>\n",
       "</div>"
      ],
      "text/plain": [
       "      Name  Age    city Gender  Salary\n",
       "0   aakash   26    Pune      M  100000\n",
       "1     sonu   27  Mumbai      M   20000\n",
       "2  shushil   25   Delhi      M  300000\n",
       "3  shivani   31    Pune      F   50000\n",
       "4    jenny   29  Mumbai      F   60000"
      ]
     },
     "execution_count": 71,
     "metadata": {},
     "output_type": "execute_result"
    }
   ],
   "source": [
    "df['Salary']=[100000,20000,300000,50000,60000 ]\n",
    "df"
   ]
  },
  {
   "cell_type": "code",
   "execution_count": 48,
   "id": "24d919d4-b44e-4fd3-9b25-cf5e49b6014f",
   "metadata": {},
   "outputs": [
    {
     "data": {
      "text/html": [
       "<div>\n",
       "<style scoped>\n",
       "    .dataframe tbody tr th:only-of-type {\n",
       "        vertical-align: middle;\n",
       "    }\n",
       "\n",
       "    .dataframe tbody tr th {\n",
       "        vertical-align: top;\n",
       "    }\n",
       "\n",
       "    .dataframe thead th {\n",
       "        text-align: right;\n",
       "    }\n",
       "</style>\n",
       "<table border=\"1\" class=\"dataframe\">\n",
       "  <thead>\n",
       "    <tr style=\"text-align: right;\">\n",
       "      <th></th>\n",
       "      <th>Name</th>\n",
       "      <th>Age</th>\n",
       "      <th>city</th>\n",
       "      <th>Gender</th>\n",
       "    </tr>\n",
       "  </thead>\n",
       "  <tbody>\n",
       "    <tr>\n",
       "      <th>0</th>\n",
       "      <td>aakash</td>\n",
       "      <td>26</td>\n",
       "      <td>Pune</td>\n",
       "      <td>M</td>\n",
       "    </tr>\n",
       "    <tr>\n",
       "      <th>1</th>\n",
       "      <td>sonu</td>\n",
       "      <td>27</td>\n",
       "      <td>Mumbai</td>\n",
       "      <td>M</td>\n",
       "    </tr>\n",
       "    <tr>\n",
       "      <th>2</th>\n",
       "      <td>shushil</td>\n",
       "      <td>25</td>\n",
       "      <td>Delhi</td>\n",
       "      <td>M</td>\n",
       "    </tr>\n",
       "    <tr>\n",
       "      <th>3</th>\n",
       "      <td>shivani</td>\n",
       "      <td>31</td>\n",
       "      <td>Pune</td>\n",
       "      <td>F</td>\n",
       "    </tr>\n",
       "    <tr>\n",
       "      <th>4</th>\n",
       "      <td>jenny</td>\n",
       "      <td>29</td>\n",
       "      <td>Mumbai</td>\n",
       "      <td>F</td>\n",
       "    </tr>\n",
       "  </tbody>\n",
       "</table>\n",
       "</div>"
      ],
      "text/plain": [
       "      Name  Age    city Gender\n",
       "0   aakash   26    Pune      M\n",
       "1     sonu   27  Mumbai      M\n",
       "2  shushil   25   Delhi      M\n",
       "3  shivani   31    Pune      F\n",
       "4    jenny   29  Mumbai      F"
      ]
     },
     "execution_count": 48,
     "metadata": {},
     "output_type": "execute_result"
    }
   ],
   "source": [
    "df.drop(columns=['Salary'])"
   ]
  },
  {
   "cell_type": "code",
   "execution_count": 51,
   "id": "cefe4c71-d737-42c9-bd1e-6dbf01fc9a2b",
   "metadata": {},
   "outputs": [
    {
     "data": {
      "text/html": [
       "<div>\n",
       "<style scoped>\n",
       "    .dataframe tbody tr th:only-of-type {\n",
       "        vertical-align: middle;\n",
       "    }\n",
       "\n",
       "    .dataframe tbody tr th {\n",
       "        vertical-align: top;\n",
       "    }\n",
       "\n",
       "    .dataframe thead th {\n",
       "        text-align: right;\n",
       "    }\n",
       "</style>\n",
       "<table border=\"1\" class=\"dataframe\">\n",
       "  <thead>\n",
       "    <tr style=\"text-align: right;\">\n",
       "      <th></th>\n",
       "      <th>Name</th>\n",
       "      <th>Age</th>\n",
       "      <th>city</th>\n",
       "      <th>Gender</th>\n",
       "      <th>Salary</th>\n",
       "    </tr>\n",
       "  </thead>\n",
       "  <tbody>\n",
       "    <tr>\n",
       "      <th>0</th>\n",
       "      <td>aakash</td>\n",
       "      <td>26</td>\n",
       "      <td>Pune</td>\n",
       "      <td>M</td>\n",
       "      <td>100000</td>\n",
       "    </tr>\n",
       "    <tr>\n",
       "      <th>1</th>\n",
       "      <td>sonu</td>\n",
       "      <td>27</td>\n",
       "      <td>Mumbai</td>\n",
       "      <td>M</td>\n",
       "      <td>20000</td>\n",
       "    </tr>\n",
       "    <tr>\n",
       "      <th>2</th>\n",
       "      <td>shushil</td>\n",
       "      <td>25</td>\n",
       "      <td>Delhi</td>\n",
       "      <td>M</td>\n",
       "      <td>300000</td>\n",
       "    </tr>\n",
       "    <tr>\n",
       "      <th>3</th>\n",
       "      <td>shivani</td>\n",
       "      <td>31</td>\n",
       "      <td>Pune</td>\n",
       "      <td>F</td>\n",
       "      <td>50000</td>\n",
       "    </tr>\n",
       "    <tr>\n",
       "      <th>4</th>\n",
       "      <td>jenny</td>\n",
       "      <td>29</td>\n",
       "      <td>Mumbai</td>\n",
       "      <td>F</td>\n",
       "      <td>60000</td>\n",
       "    </tr>\n",
       "  </tbody>\n",
       "</table>\n",
       "</div>"
      ],
      "text/plain": [
       "      Name  Age    city Gender  Salary\n",
       "0   aakash   26    Pune      M  100000\n",
       "1     sonu   27  Mumbai      M   20000\n",
       "2  shushil   25   Delhi      M  300000\n",
       "3  shivani   31    Pune      F   50000\n",
       "4    jenny   29  Mumbai      F   60000"
      ]
     },
     "execution_count": 51,
     "metadata": {},
     "output_type": "execute_result"
    }
   ],
   "source": [
    "df.drop('Salary',axis=1)\n",
    "df"
   ]
  },
  {
   "cell_type": "code",
   "execution_count": 63,
   "id": "4e944773-2a1a-426d-a287-1033251abe3f",
   "metadata": {},
   "outputs": [
    {
     "data": {
      "text/html": [
       "<div>\n",
       "<style scoped>\n",
       "    .dataframe tbody tr th:only-of-type {\n",
       "        vertical-align: middle;\n",
       "    }\n",
       "\n",
       "    .dataframe tbody tr th {\n",
       "        vertical-align: top;\n",
       "    }\n",
       "\n",
       "    .dataframe thead th {\n",
       "        text-align: right;\n",
       "    }\n",
       "</style>\n",
       "<table border=\"1\" class=\"dataframe\">\n",
       "  <thead>\n",
       "    <tr style=\"text-align: right;\">\n",
       "      <th></th>\n",
       "      <th>Name</th>\n",
       "      <th>Age</th>\n",
       "      <th>city</th>\n",
       "      <th>Gender</th>\n",
       "      <th>Salary</th>\n",
       "    </tr>\n",
       "  </thead>\n",
       "  <tbody>\n",
       "    <tr>\n",
       "      <th>0</th>\n",
       "      <td>aakash</td>\n",
       "      <td>26</td>\n",
       "      <td>Pune</td>\n",
       "      <td>M</td>\n",
       "      <td>100000</td>\n",
       "    </tr>\n",
       "    <tr>\n",
       "      <th>1</th>\n",
       "      <td>sonu</td>\n",
       "      <td>27</td>\n",
       "      <td>Mumbai</td>\n",
       "      <td>M</td>\n",
       "      <td>20000</td>\n",
       "    </tr>\n",
       "    <tr>\n",
       "      <th>2</th>\n",
       "      <td>shushil</td>\n",
       "      <td>25</td>\n",
       "      <td>Delhi</td>\n",
       "      <td>M</td>\n",
       "      <td>300000</td>\n",
       "    </tr>\n",
       "    <tr>\n",
       "      <th>3</th>\n",
       "      <td>shivani</td>\n",
       "      <td>31</td>\n",
       "      <td>Pune</td>\n",
       "      <td>F</td>\n",
       "      <td>50000</td>\n",
       "    </tr>\n",
       "    <tr>\n",
       "      <th>4</th>\n",
       "      <td>jenny</td>\n",
       "      <td>29</td>\n",
       "      <td>Mumbai</td>\n",
       "      <td>F</td>\n",
       "      <td></td>\n",
       "    </tr>\n",
       "  </tbody>\n",
       "</table>\n",
       "</div>"
      ],
      "text/plain": [
       "      Name  Age    city Gender  Salary\n",
       "0   aakash   26    Pune      M  100000\n",
       "1     sonu   27  Mumbai      M   20000\n",
       "2  shushil   25   Delhi      M  300000\n",
       "3  shivani   31    Pune      F   50000\n",
       "4    jenny   29  Mumbai      F        "
      ]
     },
     "execution_count": 63,
     "metadata": {},
     "output_type": "execute_result"
    }
   ],
   "source": [
    "df"
   ]
  },
  {
   "cell_type": "code",
   "execution_count": 54,
   "id": "122371ab-3a56-4d62-8778-cde066578dd6",
   "metadata": {},
   "outputs": [],
   "source": [
    "df.drop('Salary',axis=1,inplace=True)"
   ]
  },
  {
   "cell_type": "code",
   "execution_count": 66,
   "id": "8c027a10-e687-4d5d-bb03-978cb0465cbd",
   "metadata": {},
   "outputs": [
    {
     "data": {
      "text/html": [
       "<div>\n",
       "<style scoped>\n",
       "    .dataframe tbody tr th:only-of-type {\n",
       "        vertical-align: middle;\n",
       "    }\n",
       "\n",
       "    .dataframe tbody tr th {\n",
       "        vertical-align: top;\n",
       "    }\n",
       "\n",
       "    .dataframe thead th {\n",
       "        text-align: right;\n",
       "    }\n",
       "</style>\n",
       "<table border=\"1\" class=\"dataframe\">\n",
       "  <thead>\n",
       "    <tr style=\"text-align: right;\">\n",
       "      <th></th>\n",
       "      <th>Name</th>\n",
       "      <th>Age</th>\n",
       "      <th>city</th>\n",
       "      <th>Gender</th>\n",
       "      <th>Salary</th>\n",
       "    </tr>\n",
       "  </thead>\n",
       "  <tbody>\n",
       "    <tr>\n",
       "      <th>0</th>\n",
       "      <td>aakash</td>\n",
       "      <td>26</td>\n",
       "      <td>Pune</td>\n",
       "      <td>M</td>\n",
       "      <td>100000</td>\n",
       "    </tr>\n",
       "    <tr>\n",
       "      <th>1</th>\n",
       "      <td>sonu</td>\n",
       "      <td>27</td>\n",
       "      <td>Mumbai</td>\n",
       "      <td>M</td>\n",
       "      <td>20000</td>\n",
       "    </tr>\n",
       "    <tr>\n",
       "      <th>2</th>\n",
       "      <td>shushil</td>\n",
       "      <td>25</td>\n",
       "      <td>Delhi</td>\n",
       "      <td>M</td>\n",
       "      <td>300000</td>\n",
       "    </tr>\n",
       "    <tr>\n",
       "      <th>3</th>\n",
       "      <td>shivani</td>\n",
       "      <td>31</td>\n",
       "      <td>Pune</td>\n",
       "      <td>F</td>\n",
       "      <td>50000</td>\n",
       "    </tr>\n",
       "    <tr>\n",
       "      <th>4</th>\n",
       "      <td>jenny</td>\n",
       "      <td>29</td>\n",
       "      <td>Mumbai</td>\n",
       "      <td>F</td>\n",
       "      <td></td>\n",
       "    </tr>\n",
       "  </tbody>\n",
       "</table>\n",
       "</div>"
      ],
      "text/plain": [
       "      Name  Age    city Gender  Salary\n",
       "0   aakash   26    Pune      M  100000\n",
       "1     sonu   27  Mumbai      M   20000\n",
       "2  shushil   25   Delhi      M  300000\n",
       "3  shivani   31    Pune      F   50000\n",
       "4    jenny   29  Mumbai      F        "
      ]
     },
     "execution_count": 66,
     "metadata": {},
     "output_type": "execute_result"
    }
   ],
   "source": [
    "df"
   ]
  },
  {
   "cell_type": "code",
   "execution_count": 69,
   "id": "49ae8230-f848-4557-9f2e-2a51868caae7",
   "metadata": {},
   "outputs": [
    {
     "data": {
      "text/html": [
       "<div>\n",
       "<style scoped>\n",
       "    .dataframe tbody tr th:only-of-type {\n",
       "        vertical-align: middle;\n",
       "    }\n",
       "\n",
       "    .dataframe tbody tr th {\n",
       "        vertical-align: top;\n",
       "    }\n",
       "\n",
       "    .dataframe thead th {\n",
       "        text-align: right;\n",
       "    }\n",
       "</style>\n",
       "<table border=\"1\" class=\"dataframe\">\n",
       "  <thead>\n",
       "    <tr style=\"text-align: right;\">\n",
       "      <th></th>\n",
       "      <th>Name</th>\n",
       "      <th>Age</th>\n",
       "      <th>city</th>\n",
       "      <th>Gender</th>\n",
       "      <th>Salary</th>\n",
       "    </tr>\n",
       "  </thead>\n",
       "  <tbody>\n",
       "    <tr>\n",
       "      <th>0</th>\n",
       "      <td>aakash</td>\n",
       "      <td>26</td>\n",
       "      <td>Pune</td>\n",
       "      <td>M</td>\n",
       "      <td>100000</td>\n",
       "    </tr>\n",
       "    <tr>\n",
       "      <th>1</th>\n",
       "      <td>sonu</td>\n",
       "      <td>27</td>\n",
       "      <td>Mumbai</td>\n",
       "      <td>M</td>\n",
       "      <td>20000</td>\n",
       "    </tr>\n",
       "    <tr>\n",
       "      <th>2</th>\n",
       "      <td>shushil</td>\n",
       "      <td>25</td>\n",
       "      <td>Delhi</td>\n",
       "      <td>M</td>\n",
       "      <td>300000</td>\n",
       "    </tr>\n",
       "    <tr>\n",
       "      <th>3</th>\n",
       "      <td>shivani</td>\n",
       "      <td>31</td>\n",
       "      <td>Pune</td>\n",
       "      <td>F</td>\n",
       "      <td>50000</td>\n",
       "    </tr>\n",
       "    <tr>\n",
       "      <th>4</th>\n",
       "      <td>jenny</td>\n",
       "      <td>29</td>\n",
       "      <td>Mumbai</td>\n",
       "      <td>F</td>\n",
       "      <td></td>\n",
       "    </tr>\n",
       "  </tbody>\n",
       "</table>\n",
       "</div>"
      ],
      "text/plain": [
       "      Name  Age    city Gender  Salary\n",
       "0   aakash   26    Pune      M  100000\n",
       "1     sonu   27  Mumbai      M   20000\n",
       "2  shushil   25   Delhi      M  300000\n",
       "3  shivani   31    Pune      F   50000\n",
       "4    jenny   29  Mumbai      F        "
      ]
     },
     "execution_count": 69,
     "metadata": {},
     "output_type": "execute_result"
    }
   ],
   "source": [
    "df['Salary']=[100000,20000,300000,50000,' ' ]\n",
    "df"
   ]
  },
  {
   "cell_type": "code",
   "execution_count": null,
   "id": "126908e8-cff8-4a0c-bf6d-8ff335907298",
   "metadata": {},
   "outputs": [],
   "source": [
    "# plot a graph of name and salary"
   ]
  },
  {
   "cell_type": "code",
   "execution_count": 72,
   "id": "23a9cd34-c80f-47de-9fb8-576842cd8ccf",
   "metadata": {},
   "outputs": [
    {
     "data": {
      "text/plain": [
       "<Axes: xlabel='Name'>"
      ]
     },
     "execution_count": 72,
     "metadata": {},
     "output_type": "execute_result"
    },
    {
     "data": {
      "image/png": "[encoded data removed]",
      "text/plain": [
       "<Figure size 640x480 with 1 Axes>"
      ]
     },
     "metadata": {},
     "output_type": "display_data"
    }
   ],
   "source": [
    "df.plot(x='Name',y='Salary',kind='bar')"
   ]
  },
  {
   "cell_type": "code",
   "execution_count": 76,
   "id": "0ac6e62d-930e-4539-946b-b693352f9234",
   "metadata": {},
   "outputs": [
    {
     "ename": "KeyError",
     "evalue": "'Salaray'",
     "output_type": "error",
     "traceback": [
      "\u001b[1;31m---------------------------------------------------------------------------\u001b[0m",
      "\u001b[1;31mKeyError\u001b[0m                                  Traceback (most recent call last)",
      "File \u001b[1;32m~\\anaconda3\\Lib\\site-packages\\pandas\\core\\indexes\\base.py:3791\u001b[0m, in \u001b[0;36mIndex.get_loc\u001b[1;34m(self, key)\u001b[0m\n\u001b[0;32m   3790\u001b[0m \u001b[38;5;28;01mtry\u001b[39;00m:\n\u001b[1;32m-> 3791\u001b[0m     \u001b[38;5;28;01mreturn\u001b[39;00m \u001b[38;5;28mself\u001b[39m\u001b[38;5;241m.\u001b[39m_engine\u001b[38;5;241m.\u001b[39mget_loc(casted_key)\n\u001b[0;32m   3792\u001b[0m \u001b[38;5;28;01mexcept\u001b[39;00m \u001b[38;5;167;01mKeyError\u001b[39;00m \u001b[38;5;28;01mas\u001b[39;00m err:\n",
      "File \u001b[1;32mindex.pyx:152\u001b[0m, in \u001b[0;36mpandas._libs.index.IndexEngine.get_loc\u001b[1;34m()\u001b[0m\n",
      "File \u001b[1;32mindex.pyx:181\u001b[0m, in \u001b[0;36mpandas._libs.index.IndexEngine.get_loc\u001b[1;34m()\u001b[0m\n",
      "File \u001b[1;32mpandas\\_libs\\hashtable_class_helper.pxi:7080\u001b[0m, in \u001b[0;36mpandas._libs.hashtable.PyObjectHashTable.get_item\u001b[1;34m()\u001b[0m\n",
      "File \u001b[1;32mpandas\\_libs\\hashtable_class_helper.pxi:7088\u001b[0m, in \u001b[0;36mpandas._libs.hashtable.PyObjectHashTable.get_item\u001b[1;34m()\u001b[0m\n",
      "\u001b[1;31mKeyError\u001b[0m: 'Salaray'",
      "\nThe above exception was the direct cause of the following exception:\n",
      "\u001b[1;31mKeyError\u001b[0m                                  Traceback (most recent call last)",
      "Cell \u001b[1;32mIn[76], line 2\u001b[0m\n\u001b[0;32m      1\u001b[0m \u001b[38;5;28;01mimport\u001b[39;00m \u001b[38;5;21;01mmatplotlib\u001b[39;00m\u001b[38;5;21;01m.\u001b[39;00m\u001b[38;5;21;01mpyplot\u001b[39;00m \u001b[38;5;28;01mas\u001b[39;00m \u001b[38;5;21;01mplt\u001b[39;00m \n\u001b[1;32m----> 2\u001b[0m plt\u001b[38;5;241m.\u001b[39mplot(df[\u001b[38;5;124m'\u001b[39m\u001b[38;5;124mName\u001b[39m\u001b[38;5;124m'\u001b[39m],df[\u001b[38;5;124m'\u001b[39m\u001b[38;5;124mSalaray\u001b[39m\u001b[38;5;124m'\u001b[39m])\n\u001b[0;32m      3\u001b[0m plt\u001b[38;5;241m.\u001b[39mshow()\n",
      "File \u001b[1;32m~\\anaconda3\\Lib\\site-packages\\pandas\\core\\frame.py:3893\u001b[0m, in \u001b[0;36mDataFrame.__getitem__\u001b[1;34m(self, key)\u001b[0m\n\u001b[0;32m   3891\u001b[0m \u001b[38;5;28;01mif\u001b[39;00m \u001b[38;5;28mself\u001b[39m\u001b[38;5;241m.\u001b[39mcolumns\u001b[38;5;241m.\u001b[39mnlevels \u001b[38;5;241m>\u001b[39m \u001b[38;5;241m1\u001b[39m:\n\u001b[0;32m   3892\u001b[0m     \u001b[38;5;28;01mreturn\u001b[39;00m \u001b[38;5;28mself\u001b[39m\u001b[38;5;241m.\u001b[39m_getitem_multilevel(key)\n\u001b[1;32m-> 3893\u001b[0m indexer \u001b[38;5;241m=\u001b[39m \u001b[38;5;28mself\u001b[39m\u001b[38;5;241m.\u001b[39mcolumns\u001b[38;5;241m.\u001b[39mget_loc(key)\n\u001b[0;32m   3894\u001b[0m \u001b[38;5;28;01mif\u001b[39;00m is_integer(indexer):\n\u001b[0;32m   3895\u001b[0m     indexer \u001b[38;5;241m=\u001b[39m [indexer]\n",
      "File \u001b[1;32m~\\anaconda3\\Lib\\site-packages\\pandas\\core\\indexes\\base.py:3798\u001b[0m, in \u001b[0;36mIndex.get_loc\u001b[1;34m(self, key)\u001b[0m\n\u001b[0;32m   3793\u001b[0m     \u001b[38;5;28;01mif\u001b[39;00m \u001b[38;5;28misinstance\u001b[39m(casted_key, \u001b[38;5;28mslice\u001b[39m) \u001b[38;5;129;01mor\u001b[39;00m (\n\u001b[0;32m   3794\u001b[0m         \u001b[38;5;28misinstance\u001b[39m(casted_key, abc\u001b[38;5;241m.\u001b[39mIterable)\n\u001b[0;32m   3795\u001b[0m         \u001b[38;5;129;01mand\u001b[39;00m \u001b[38;5;28many\u001b[39m(\u001b[38;5;28misinstance\u001b[39m(x, \u001b[38;5;28mslice\u001b[39m) \u001b[38;5;28;01mfor\u001b[39;00m x \u001b[38;5;129;01min\u001b[39;00m casted_key)\n\u001b[0;32m   3796\u001b[0m     ):\n\u001b[0;32m   3797\u001b[0m         \u001b[38;5;28;01mraise\u001b[39;00m InvalidIndexError(key)\n\u001b[1;32m-> 3798\u001b[0m     \u001b[38;5;28;01mraise\u001b[39;00m \u001b[38;5;167;01mKeyError\u001b[39;00m(key) \u001b[38;5;28;01mfrom\u001b[39;00m \u001b[38;5;21;01merr\u001b[39;00m\n\u001b[0;32m   3799\u001b[0m \u001b[38;5;28;01mexcept\u001b[39;00m \u001b[38;5;167;01mTypeError\u001b[39;00m:\n\u001b[0;32m   3800\u001b[0m     \u001b[38;5;66;03m# If we have a listlike key, _check_indexing_error will raise\u001b[39;00m\n\u001b[0;32m   3801\u001b[0m     \u001b[38;5;66;03m#  InvalidIndexError. Otherwise we fall through and re-raise\u001b[39;00m\n\u001b[0;32m   3802\u001b[0m     \u001b[38;5;66;03m#  the TypeError.\u001b[39;00m\n\u001b[0;32m   3803\u001b[0m     \u001b[38;5;28mself\u001b[39m\u001b[38;5;241m.\u001b[39m_check_indexing_error(key)\n",
      "\u001b[1;31mKeyError\u001b[0m: 'Salaray'"
     ]
    }
   ],
   "source": [
    "import matplotlib.pyplot as plt \n",
    "plt.plot(df['Name'],df['Salaray'])\n",
    "plt.show()"
   ]
  },
  {
   "cell_type": "code",
   "execution_count": null,
   "id": "de92a3a4-4fb4-4b51-956f-87df5e202c88",
   "metadata": {},
   "outputs": [],
   "source": [
    "# plot graph for equation y=x^2."
   ]
  },
  {
   "cell_type": "code",
   "execution_count": 85,
   "id": "04af8b96-2425-4f1a-b22e-6b20b61376bb",
   "metadata": {},
   "outputs": [
    {
     "data": {
      "image/png": "[encoded data removed]",
      "text/plain": [
       "<Figure size 640x480 with 1 Axes>"
      ]
     },
     "metadata": {},
     "output_type": "display_data"
    }
   ],
   "source": [
    "x=[1,2,3,4]\n",
    "y=[1,4,9,16]\n",
    "plt.plot(x,y)\n",
    "plt.show()"
   ]
  },
  {
   "cell_type": "code",
   "execution_count": 86,
   "id": "80b274e9-7a39-4eaa-aef2-24569fc88e73",
   "metadata": {},
   "outputs": [
    {
     "name": "stdout",
     "output_type": "stream",
     "text": [
      "[-100, -99, -98, -97, -96, -95, -94, -93, -92, -91, -90, -89, -88, -87, -86, -85, -84, -83, -82, -81, -80, -79, -78, -77, -76, -75, -74, -73, -72, -71, -70, -69, -68, -67, -66, -65, -64, -63, -62, -61, -60, -59, -58, -57, -56, -55, -54, -53, -52, -51, -50, -49, -48, -47, -46, -45, -44, -43, -42, -41, -40, -39, -38, -37, -36, -35, -34, -33, -32, -31, -30, -29, -28, -27, -26, -25, -24, -23, -22, -21, -20, -19, -18, -17, -16, -15, -14, -13, -12, -11, -10, -9, -8, -7, -6, -5, -4, -3, -2, -1, 0, 1, 2, 3, 4, 5, 6, 7, 8, 9, 10, 11, 12, 13, 14, 15, 16, 17, 18, 19, 20, 21, 22, 23, 24, 25, 26, 27, 28, 29, 30, 31, 32, 33, 34, 35, 36, 37, 38, 39, 40, 41, 42, 43, 44, 45, 46, 47, 48, 49, 50, 51, 52, 53, 54, 55, 56, 57, 58, 59, 60, 61, 62, 63, 64, 65, 66, 67, 68, 69, 70, 71, 72, 73, 74, 75, 76, 77, 78, 79, 80, 81, 82, 83, 84, 85, 86, 87, 88, 89, 90, 91, 92, 93, 94, 95, 96, 97, 98, 99] [-100, -99, -98, -97, -96, -95, -94, -93, -92, -91, -90, -89, -88, -87, -86, -85, -84, -83, -82, -81, -80, -79, -78, -77, -76, -75, -74, -73, -72, -71, -70, -69, -68, -67, -66, -65, -64, -63, -62, -61, -60, -59, -58, -57, -56, -55, -54, -53, -52, -51, -50, -49, -48, -47, -46, -45, -44, -43, -42, -41, -40, -39, -38, -37, -36, -35, -34, -33, -32, -31, -30, -29, -28, -27, -26, -25, -24, -23, -22, -21, -20, -19, -18, -17, -16, -15, -14, -13, -12, -11, -10, -9, -8, -7, -6, -5, -4, -3, -2, -1, 0, 1, 2, 3, 4, 5, 6, 7, 8, 9, 10, 11, 12, 13, 14, 15, 16, 17, 18, 19, 20, 21, 22, 23, 24, 25, 26, 27, 28, 29, 30, 31, 32, 33, 34, 35, 36, 37, 38, 39, 40, 41, 42, 43, 44, 45, 46, 47, 48, 49, 50, 51, 52, 53, 54, 55, 56, 57, 58, 59, 60, 61, 62, 63, 64, 65, 66, 67, 68, 69, 70, 71, 72, 73, 74, 75, 76, 77, 78, 79, 80, 81, 82, 83, 84, 85, 86, 87, 88, 89, 90, 91, 92, 93, 94, 95, 96, 97, 98, 99]\n"
     ]
    },
    {
     "data": {
      "image/png": "[encoded data removed]",
      "text/plain": [
       "<Figure size 640x480 with 1 Axes>"
      ]
     },
     "metadata": {},
     "output_type": "display_data"
    }
   ],
   "source": [
    "x=[]\n",
    "y=[]\n",
    "for i in range (-100,100):\n",
    "  x.append(i)\n",
    "for i in x:\n",
    "  y.append(i)\n",
    "print(x,y)\n",
    "plt.plot(x,y)\n",
    "plt.show()"
   ]
  },
  {
   "cell_type": "code",
   "execution_count": 87,
   "id": "5eacab5a-04d5-43e0-91e9-08631adf19d0",
   "metadata": {},
   "outputs": [
    {
     "data": {
      "image/png": "[encoded data removed]",
      "text/plain": [
       "<Figure size 640x480 with 1 Axes>"
      ]
     },
     "metadata": {},
     "output_type": "display_data"
    }
   ],
   "source": [
    "x=[]\n",
    "y=[]\n",
    "for i in range (-100,100):\n",
    "  x.append(i)\n",
    "for i in x:\n",
    "  y.append(i**2)\n",
    "\n",
    "plt.plot(x,y)\n",
    "plt.show()"
   ]
  },
  {
   "cell_type": "code",
   "execution_count": 88,
   "id": "4a135aad-9bcf-48b2-b3d3-7d1cd23d32f2",
   "metadata": {},
   "outputs": [
    {
     "data": {
      "text/plain": [
       "[10000,\n",
       " 9801,\n",
       " 9604,\n",
       " 9409,\n",
       " 9216,\n",
       " 9025,\n",
       " 8836,\n",
       " 8649,\n",
       " 8464,\n",
       " 8281,\n",
       " 8100,\n",
       " 7921,\n",
       " 7744,\n",
       " 7569,\n",
       " 7396,\n",
       " 7225,\n",
       " 7056,\n",
       " 6889,\n",
       " 6724,\n",
       " 6561,\n",
       " 6400,\n",
       " 6241,\n",
       " 6084,\n",
       " 5929,\n",
       " 5776,\n",
       " 5625,\n",
       " 5476,\n",
       " 5329,\n",
       " 5184,\n",
       " 5041,\n",
       " 4900,\n",
       " 4761,\n",
       " 4624,\n",
       " 4489,\n",
       " 4356,\n",
       " 4225,\n",
       " 4096,\n",
       " 3969,\n",
       " 3844,\n",
       " 3721,\n",
       " 3600,\n",
       " 3481,\n",
       " 3364,\n",
       " 3249,\n",
       " 3136,\n",
       " 3025,\n",
       " 2916,\n",
       " 2809,\n",
       " 2704,\n",
       " 2601,\n",
       " 2500,\n",
       " 2401,\n",
       " 2304,\n",
       " 2209,\n",
       " 2116,\n",
       " 2025,\n",
       " 1936,\n",
       " 1849,\n",
       " 1764,\n",
       " 1681,\n",
       " 1600,\n",
       " 1521,\n",
       " 1444,\n",
       " 1369,\n",
       " 1296,\n",
       " 1225,\n",
       " 1156,\n",
       " 1089,\n",
       " 1024,\n",
       " 961,\n",
       " 900,\n",
       " 841,\n",
       " 784,\n",
       " 729,\n",
       " 676,\n",
       " 625,\n",
       " 576,\n",
       " 529,\n",
       " 484,\n",
       " 441,\n",
       " 400,\n",
       " 361,\n",
       " 324,\n",
       " 289,\n",
       " 256,\n",
       " 225,\n",
       " 196,\n",
       " 169,\n",
       " 144,\n",
       " 121,\n",
       " 100,\n",
       " 81,\n",
       " 64,\n",
       " 49,\n",
       " 36,\n",
       " 25,\n",
       " 16,\n",
       " 9,\n",
       " 4,\n",
       " 1,\n",
       " 0,\n",
       " 1,\n",
       " 4,\n",
       " 9,\n",
       " 16,\n",
       " 25,\n",
       " 36,\n",
       " 49,\n",
       " 64,\n",
       " 81,\n",
       " 100,\n",
       " 121,\n",
       " 144,\n",
       " 169,\n",
       " 196,\n",
       " 225,\n",
       " 256,\n",
       " 289,\n",
       " 324,\n",
       " 361,\n",
       " 400,\n",
       " 441,\n",
       " 484,\n",
       " 529,\n",
       " 576,\n",
       " 625,\n",
       " 676,\n",
       " 729,\n",
       " 784,\n",
       " 841,\n",
       " 900,\n",
       " 961,\n",
       " 1024,\n",
       " 1089,\n",
       " 1156,\n",
       " 1225,\n",
       " 1296,\n",
       " 1369,\n",
       " 1444,\n",
       " 1521,\n",
       " 1600,\n",
       " 1681,\n",
       " 1764,\n",
       " 1849,\n",
       " 1936,\n",
       " 2025,\n",
       " 2116,\n",
       " 2209,\n",
       " 2304,\n",
       " 2401,\n",
       " 2500,\n",
       " 2601,\n",
       " 2704,\n",
       " 2809,\n",
       " 2916,\n",
       " 3025,\n",
       " 3136,\n",
       " 3249,\n",
       " 3364,\n",
       " 3481,\n",
       " 3600,\n",
       " 3721,\n",
       " 3844,\n",
       " 3969,\n",
       " 4096,\n",
       " 4225,\n",
       " 4356,\n",
       " 4489,\n",
       " 4624,\n",
       " 4761,\n",
       " 4900,\n",
       " 5041,\n",
       " 5184,\n",
       " 5329,\n",
       " 5476,\n",
       " 5625,\n",
       " 5776,\n",
       " 5929,\n",
       " 6084,\n",
       " 6241,\n",
       " 6400,\n",
       " 6561,\n",
       " 6724,\n",
       " 6889,\n",
       " 7056,\n",
       " 7225,\n",
       " 7396,\n",
       " 7569,\n",
       " 7744,\n",
       " 7921,\n",
       " 8100,\n",
       " 8281,\n",
       " 8464,\n",
       " 8649,\n",
       " 8836,\n",
       " 9025,\n",
       " 9216,\n",
       " 9409,\n",
       " 9604,\n",
       " 9801]"
      ]
     },
     "execution_count": 88,
     "metadata": {},
     "output_type": "execute_result"
    }
   ],
   "source": [
    "y"
   ]
  },
  {
   "cell_type": "markdown",
   "id": "e23a84be-1244-489b-957a-05533e0f4664",
   "metadata": {},
   "source": [
    "## plot graph sin x"
   ]
  },
  {
   "cell_type": "code",
   "execution_count": 89,
   "id": "dbb2fb20-a085-4c68-b8d6-f621beca9740",
   "metadata": {},
   "outputs": [
    {
     "data": {
      "image/png": "[encoded data removed]",
      "text/plain": [
       "<Figure size 640x480 with 1 Axes>"
      ]
     },
     "metadata": {},
     "output_type": "display_data"
    }
   ],
   "source": [
    "x=[i for i in range (-100,100)]\n",
    "y=[i**2 for i in x]\n",
    "plt.plot(x,y)\n",
    "plt.show()"
   ]
  },
  {
   "cell_type": "code",
   "execution_count": 90,
   "id": "8dbfceca-bc4b-4d2a-aad4-649441e00325",
   "metadata": {},
   "outputs": [
    {
     "data": {
      "image/png": "[encoded data removed]",
      "text/plain": [
       "<Figure size 640x480 with 1 Axes>"
      ]
     },
     "metadata": {},
     "output_type": "display_data"
    }
   ],
   "source": [
    "x=[0,30,90]\n",
    "y=[0,1.5,1]\n",
    "plt.plot(x,y)\n",
    "plt.show()"
   ]
  },
  {
   "cell_type": "code",
   "execution_count": null,
   "id": "dae3042d-8d36-4e94-9d7c-b096317b14ba",
   "metadata": {},
   "outputs": [],
   "source": [
    "x=[i for i in range (-100,100)]\n",
    "y=[i**2 for i in x]\n",
    "plt.plot(x,y)\n",
    "plt.show()\n",
    "#make it dynamic and user accessible \n",
    "# plot of sine function "
   ]
  }
 ],
 "metadata": {
  "kernelspec": {
   "display_name": "Python 3 (ipykernel)",
   "language": "python",
   "name": "python3"
  },
  "language_info": {
   "codemirror_mode": {
    "name": "ipython",
    "version": 3
   },
   "file_extension": ".py",
   "mimetype": "text/x-python",
   "name": "python",
   "nbconvert_exporter": "python",
   "pygments_lexer": "ipython3",
   "version": "3.11.7"
  }
 },
 "nbformat": 4,
 "nbformat_minor": 5
}
